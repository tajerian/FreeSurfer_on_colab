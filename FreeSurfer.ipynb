{
  "nbformat": 4,
  "nbformat_minor": 0,
  "metadata": {
    "colab": {
      "provenance": [],
      "authorship_tag": "ABX9TyOws71b0/mFA6LaY4hvuXDa",
      "include_colab_link": true
    },
    "kernelspec": {
      "name": "python3",
      "display_name": "Python 3"
    },
    "language_info": {
      "name": "python"
    }
  },
  "cells": [
    {
      "cell_type": "markdown",
      "metadata": {
        "id": "view-in-github",
        "colab_type": "text"
      },
      "source": [
        "<a href=\"https://colab.research.google.com/github/tajerian/FreeSurfer_on_colab/blob/main/FreeSurfer.ipynb\" target=\"_parent\"><img src=\"https://colab.research.google.com/assets/colab-badge.svg\" alt=\"Open In Colab\"/></a>"
      ]
    },
    {
      "cell_type": "markdown",
      "source": [
        "#How to setup FreeSurfer on Google colab\n",
        "\n",
        "---\n",
        "\n"
      ],
      "metadata": {
        "id": "9SGu6e0q5LUP"
      }
    },
    {
      "cell_type": "markdown",
      "source": [
        "<h5><center>$\\color{red}{\\text{FreeSurfer}}$ is a software package for the analysis and visualization of structural and functional neuroimaging data from cross-sectional or longitudinal studies. It is developed by the Laboratory for Computational Neuroimaging at the Athinoula A. Martinos Center for Biomedical Imaging. FreeSurfer is the structural MRI analysis software of choice for the Human Connectome Project.<br><br>\n",
        "\n",
        "\n",
        "<img src=\"https://upload.wikimedia.org/wikipedia/commons/9/9e/Brainanim.gif\" style=\"float:right;width:50px;height:50px;\"></center></h5>\n",
        "\n",
        "\n"
      ],
      "metadata": {
        "id": "tvVXakGC5YjY"
      }
    },
    {
      "cell_type": "markdown",
      "source": [
        "<h5><center>FreeSurfer's $\\color{red}{\\text{recon-all}}$ command takes a long time to process an individual subject around $\\color{red}{\\text{6-24}}$ hours on a typical systenm, with some variation due to factors such as the quality of the input data. <br><br>\n",
        "For many researchers, this can be a prohibitively long time to wait, especially if the study contains dozens or hundreds of subjects.\n",
        "\n",
        "***in this notebook I'll show you how to setup and run Freesurfer to overcome this issue***<center><h5>"
      ],
      "metadata": {
        "id": "JYnNFOGt5ct1"
      }
    },
    {
      "cell_type": "markdown",
      "source": [
        "##Choosing the Right Release version"
      ],
      "metadata": {
        "id": "RIsLXHVcA0yx"
      }
    },
    {
      "cell_type": "code",
      "source": [
        "# First let's check colab's Linux distribution and version\n",
        "!cat /etc/os-release "
      ],
      "metadata": {
        "colab": {
          "base_uri": "https://localhost:8080/"
        },
        "id": "eWHJ3duhAkpp",
        "outputId": "10f720bb-9fc8-49ca-dcbd-97d963e76790"
      },
      "execution_count": 1,
      "outputs": [
        {
          "output_type": "stream",
          "name": "stdout",
          "text": [
            "NAME=\"Ubuntu\"\n",
            "VERSION=\"20.04.5 LTS (Focal Fossa)\"\n",
            "ID=ubuntu\n",
            "ID_LIKE=debian\n",
            "PRETTY_NAME=\"Ubuntu 20.04.5 LTS\"\n",
            "VERSION_ID=\"20.04\"\n",
            "HOME_URL=\"https://www.ubuntu.com/\"\n",
            "SUPPORT_URL=\"https://help.ubuntu.com/\"\n",
            "BUG_REPORT_URL=\"https://bugs.launchpad.net/ubuntu/\"\n",
            "PRIVACY_POLICY_URL=\"https://www.ubuntu.com/legal/terms-and-policies/privacy-policy\"\n",
            "VERSION_CODENAME=focal\n",
            "UBUNTU_CODENAME=focal\n"
          ]
        }
      ]
    },
    {
      "cell_type": "markdown",
      "source": [
        "Then go to this [Website](https://surfer.nmr.mgh.harvard.edu/fswiki/rel7downloads) and download the sutable version based on the distribution and its version which in our case is $\\color{red}{\\text{Ubuntu 20.04.5 LTS}}$"
      ],
      "metadata": {
        "id": "1Ax2gNCxBoPS"
      }
    },
    {
      "cell_type": "code",
      "source": [
        "# Downloading The tar archive using wget command\n",
        "!wget https://surfer.nmr.mgh.harvard.edu/pub/dist/freesurfer/7.4.0/freesurfer-linux-ubuntu20_amd64-7.4.0.tar.gz"
      ],
      "metadata": {
        "colab": {
          "base_uri": "https://localhost:8080/"
        },
        "id": "yobHTnujC2JV",
        "outputId": "62fcb16b-2bcc-4102-a49d-1d094999b118"
      },
      "execution_count": 2,
      "outputs": [
        {
          "output_type": "stream",
          "name": "stdout",
          "text": [
            "--2023-06-12 05:23:51--  https://surfer.nmr.mgh.harvard.edu/pub/dist/freesurfer/7.4.0/freesurfer-linux-ubuntu20_amd64-7.4.0.tar.gz\n",
            "Resolving surfer.nmr.mgh.harvard.edu (surfer.nmr.mgh.harvard.edu)... 132.183.1.43\n",
            "Connecting to surfer.nmr.mgh.harvard.edu (surfer.nmr.mgh.harvard.edu)|132.183.1.43|:443... connected.\n",
            "HTTP request sent, awaiting response... 200 OK\n",
            "Length: 9484468980 (8.8G) [application/x-gzip]\n",
            "Saving to: ‘freesurfer-linux-ubuntu20_amd64-7.4.0.tar.gz’\n",
            "\n",
            "freesurfer-linux-ub 100%[===================>]   8.83G  40.1MB/s    in 4m 2s   \n",
            "\n",
            "2023-06-12 05:27:54 (37.3 MB/s) - ‘freesurfer-linux-ubuntu20_amd64-7.4.0.tar.gz’ saved [9484468980/9484468980]\n",
            "\n"
          ]
        }
      ]
    },
    {
      "cell_type": "markdown",
      "source": [
        "## Install dependencies"
      ],
      "metadata": {
        "id": "7bAZWLShDkQZ"
      }
    },
    {
      "cell_type": "code",
      "source": [
        "from google.colab import output\n",
        "\n",
        "!sudo apt-get install tcsh\n",
        "!sudo apt-get install libglu1\n",
        "!sudo apt-get install libxss1\n",
        "!sudo apt-get install language-pack-en\n",
        "!sudo apt-get install gettext\n",
        "!sudo apt-get install xterm\n",
        "!sudo apt-get install x11-apps\n",
        "!sudo apt-get install csh\n",
        "!sudo apt-get install bc\n",
        "!sudo apt-get install libncurses5\n",
        "!sudo apt-get install libjpeg62\n",
        "!sudo apt-get install xorg-dev\n",
        "output.clear()"
      ],
      "metadata": {
        "id": "NIpvRJ8GDx0u"
      },
      "execution_count": 7,
      "outputs": []
    },
    {
      "cell_type": "code",
      "source": [
        "# This one asks you a question about your language write \"English (US)\" in the box below\n",
        "!sudo apt-get install xorg \n",
        "!sudo apt-get install xserver-xorg-video-intel\n",
        "output.clear()"
      ],
      "metadata": {
        "id": "YgkX43v1Ef9l"
      },
      "execution_count": null,
      "outputs": []
    },
    {
      "cell_type": "markdown",
      "source": [
        "## Installation"
      ],
      "metadata": {
        "id": "3N54v1PXFBV-"
      }
    },
    {
      "cell_type": "code",
      "source": [
        "import os\n",
        "from glob import glob\n",
        "!sudo tar -xzvf freesurfer-linux-ubuntu20_amd64-7.4.0.tar.gz\n",
        "os.remove(glob('/content/*.tar.gz')[0])\n",
        "output.clear()"
      ],
      "metadata": {
        "id": "7zBrz1bQFZHQ"
      },
      "execution_count": 8,
      "outputs": []
    },
    {
      "cell_type": "markdown",
      "source": [
        "## Setup"
      ],
      "metadata": {
        "id": "19w24RF2GH4k"
      }
    },
    {
      "cell_type": "code",
      "source": [
        "import os\n",
        "os.environ['FREESURFER_HOME'] = '/content/freesurfer' # DO NOT CHANGE THIS\n",
        "os.environ['SUBJECTS_DIR'] = '/content/drive/MyDrive/PPMI/FS' # Results saves here. you can change it to your desired folder\n",
        "os.environ['FUNCTIONALS_DIR'] = '/content/freesurfer/sessions' # DO NOT CHANGE THIS"
      ],
      "metadata": {
        "id": "nQgnYDuiGaZB"
      },
      "execution_count": 9,
      "outputs": []
    },
    {
      "cell_type": "markdown",
      "source": [
        "## Running FreeSurfer "
      ],
      "metadata": {
        "id": "WOvN_aIPGwqY"
      }
    },
    {
      "cell_type": "markdown",
      "source": [
        "In order to sourcing the FreeSurfer script, you need to type this command on shell: \n",
        "\n",
        "```\n",
        "# source $FREESURFER_HOME/SetUpFreeSurfer.csh\n",
        "```\n",
        "\n",
        "you need to do it every time you open a terminal window.<br><br>\n",
        "Usage of C shell (csh) or enhanced C shell (tcsh) is recommended, although Bourne shell (bash/sh) scripts are also provided for the setup scripts."
      ],
      "metadata": {
        "id": "NvZMzMpWG9_C"
      }
    },
    {
      "cell_type": "code",
      "source": [
        "!tcsh"
      ],
      "metadata": {
        "colab": {
          "base_uri": "https://localhost:8080/"
        },
        "id": "vvtGfPXmIzsH",
        "outputId": "dd2abc22-e779-44b6-cc30-7912e3cbd214"
      },
      "execution_count": 13,
      "outputs": [
        {
          "output_type": "stream",
          "name": "stdout",
          "text": [
            "Warning: no access to tty (Inappropriate ioctl for device).\n",
            "Thus no job control in this shell.\n",
            "\u001b[4m73f2ea161d03\u001b[m:\u001b[1m/content\u001b[m# source $FREESURFER_HOME/SetUpFreeSurfer.csh\n",
            "-------- freesurfer-linux-ubuntu20_x86_64-7.4.0-20230510-e558e6e --------\n",
            "Setting up environment for FreeSurfer/FS-FAST (and FSL)\n",
            "WARNING: /content/drive/MyDrive/PPMI/FS does not exist\n",
            "FREESURFER_HOME   /content/freesurfer\n",
            "FSFAST_HOME       /content/freesurfer/fsfast\n",
            "FSF_OUTPUT_FORMAT nii.gz\n",
            "SUBJECTS_DIR      /content/drive/MyDrive/PPMI/FS\n",
            "MNI_DIR           /content/freesurfer/mni\n",
            "\u001b[4m73f2ea161d03\u001b[m:\u001b[1m/content\u001b[m# recon-all\n",
            "\n",
            "USAGE: recon-all\n",
            "\n",
            " Required Arguments:\n",
            "   -subjid <subjid>\n",
            "   -<process directive>\n",
            "\n",
            " Fully-Automated Directive:\n",
            "  -all           : performs all stages of cortical reconstruction\n",
            "  -autorecon-all : same as -all\n",
            "\n",
            " Manual-Intervention Workflow Directives:\n",
            "  -autorecon1    : process stages 1-5 (see below)\n",
            "  -autorecon2    : process stages 6-23\n",
            "                   after autorecon2, check white surfaces:\n",
            "                     a. if wm edit was required, then run -autorecon2-wm\n",
            "                     b. if control points added, then run -autorecon2-cp\n",
            "                     c. proceed to run -autorecon3\n",
            "  -autorecon2-cp : process stages 12-23 (uses -f w/ mri_normalize, -keep w/ mri_seg)\n",
            "  -autorecon2-wm : process stages 15-23\n",
            "  -autorecon2-inflate1 : 6-18\n",
            "  -autorecon2-perhemi : tess, sm1, inf1, q, fix, sm2, inf2, finalsurf, ribbon\n",
            "  -autorecon3    : process stages 24-34\n",
            "                     if edits made to correct pial, then run -autorecon-pial\n",
            "  -hemi ?h       : just do lh or rh (default is to do both)\n",
            "\n",
            "  Autorecon Processing Stages (see -autorecon# flags above):\n",
            "    1.  Motion Correction and Conform\n",
            "    2.  NU (Non-Uniform intensity normalization)\n",
            "    3.  Talairach transform computation\n",
            "    4.  Intensity Normalization 1\n",
            "    5.  Skull Strip\n",
            "\n",
            "    6.  EM Register (linear volumetric registration)\n",
            "    7.  CA Intensity Normalization\n",
            "    8.  CA Non-linear Volumetric Registration \n",
            "    9.  Remove neck\n",
            "    10. EM Register, with skull\n",
            "    11. CA Label (Aseg: Volumetric Labeling) and Statistics\n",
            "\n",
            "    12. Intensity Normalization 2 (start here for control points)\n",
            "    13. White matter segmentation\n",
            "    14. Edit WM With ASeg\n",
            "    15. Fill (start here for wm edits)\n",
            "    16. Tessellation (begins per-hemisphere operations)\n",
            "    17. Smooth1\n",
            "    18. Inflate1\n",
            "    19. QSphere\n",
            "    20. Automatic Topology Fixer\n",
            "    21. White Surfs (start here for brain edits for pial surf)\n",
            "    22. Smooth2\n",
            "    23. Inflate2\n",
            "\n",
            "    24. Spherical Mapping\n",
            "    25. Spherical Registration \n",
            "    26. Spherical Registration, Contralater hemisphere\n",
            "    27. Map average curvature to subject\n",
            "    28. Cortical Parcellation (Labeling)\n",
            "    29. Cortical Parcellation Statistics\n",
            "    30. Pial Surfs\n",
            "    31. WM/GM Contrast\n",
            "    32. Cortical Ribbon Mask\n",
            "    33. Cortical Parcellation mapped to ASeg\n",
            "    34  Brodmann and exvio EC labels\n",
            "\n",
            " Step-wise Directives\n",
            "  See -help\n",
            "\n",
            " Expert Preferences\n",
            "  -pons-crs C R S : col, row, slice of seed point for pons, used in fill\n",
            "  -cc-crs C R S : col, row, slice of seed point for corpus callosum, used in fill\n",
            "  -lh-crs C R S : col, row, slice of seed point for left hemisphere, used in fill\n",
            "  -rh-crs C R S : col, row, slice of seed point for right hemisphere, used in fill\n",
            "  -nofill        : do not use the automatic subcort seg to fill\n",
            "  -watershed cmd : control skull stripping/watershed program\n",
            "  -xmask file : custom external brain mask to replace automated skullstripping\n",
            "  -wsless : decrease watershed threshold (leaves less skull, but can strip more brain)\n",
            "  -wsmore : increase watershed threshold (leaves more skull, but can strip less brain)\n",
            "  -wsatlas : use atlas when skull stripping\n",
            "  -no-wsatlas : do not use atlas when skull stripping\n",
            "  -no-wsgcaatlas : do not use GCA atlas when skull stripping\n",
            "  -wsthresh pct : explicity set watershed threshold\n",
            "  -wsseed C R S : identify an index (C, R, S) point in the skull\n",
            "  -norm3diters niters : number of 3d iterations for mri_normalize\n",
            "  -normmaxgrad maxgrad : max grad (-g) for mri_normalize. Default is 1.\n",
            "  -norm1-b N : in the _first_ usage of mri_normalize, use control \n",
            "               point with intensity N below target (default=10.0) \n",
            "  -norm2-b N : in the _second_ usage of mri_normalize, use control \n",
            "               point with intensity N below target (default=10.0) \n",
            "  -norm1-n N : in the _first_ usage of mri_normalize, do N number \n",
            "               of iterations\n",
            "  -norm2-n N : in the _second_ usage of mri_normalize, do N number \n",
            "               of iterations\n",
            "  -cm           : conform volumes to the min voxel size \n",
            "  -no-fix-with-ga : do not use genetic algorithm when fixing topology\n",
            "  -fix-diag-only  : topology fixer runs until ?h.defect_labels files\n",
            "                    are created, then stops\n",
            "  -seg-wlo wlo : set wlo value for mri_segment and mris_make_surfaces\n",
            "  -seg-ghi ghi : set ghi value for mri_segment and mris_make_surfaces\n",
            "  -nothicken   : pass '-thicken 0' to mri_segment\n",
            "  -no-ca-align-after : turn off -align-after with mri_ca_register\n",
            "  -no-ca-align : turn off -align with mri_ca_label\n",
            "  -deface      : deface subject, written to orig_defaced.mgz\n",
            "\n",
            "  -expert file     : read-in expert options file\n",
            "  -xopts-use       : use pre-existing expert options file\n",
            "  -xopts-clean     : delete pre-existing expert options file\n",
            "  -xopts-overwrite : overwrite pre-existing expert options file\n",
            "  -termscript script : run script before exiting (multiple -termscript flags possible)\n",
            "   This can be good for running custom post-processing after recon-all\n",
            "   The script must be in your path. The subjid is passed as the only argument\n",
            "   The current directory is changed to SUBJECTS_DIR before the script is run\n",
            "   The script should exit with 0 unless there is an error\n",
            "\n",
            "  -mprage : assume scan parameters are MGH MP-RAGE protocol\n",
            "  -washu_mprage : assume scan parameters are Wash.U. MP-RAGE protocol.\n",
            "                  both mprage flags affect mri_normalize and mri_segment,\n",
            "                  and assumes a darker gm.\n",
            "  -schwartzya3t-atlas : for tal reg, use special young adult 3T atlas\n",
            "\n",
            "  -threads num  : set number of threads to use\n",
            "\n",
            " Notification Files (Optional)\n",
            "  -waitfor file : wait for file to appear before beginning\n",
            "  -notify  file : create this file after finishing\n",
            "\n",
            " Status and Log files (Optional)\n",
            "  -log     file : default is scripts/recon-all.log\n",
            "  -status  file : default is scripts/recon-all-status.log\n",
            "  -noappend     : start new log and status files instead of appending\n",
            "  -no-isrunning : do not check whether this subject is currently being processed\n",
            "\n",
            " Segmentation of substructures of hippocampus and brainstem \n",
            " (These deprecated; please see segmentHA_T1.sh, segmentHA_T1.sh, segmentHA_T1_long.sh, segmentBS.sh)\n",
            "  -hippocampal-subfields-T1 : segmentation of hippocampal subfields using input T1 scan\n",
            "  -hippocampal-subfields-T2 file ID : segmentation using an additional scan (given by file);\n",
            "                                      ID is a user-defined identifier for the analysis\n",
            "  -hippocampal-subfields-T1T2 file ID : segmentation using additional scan (given by file) and input T1\n",
            "                                        simultaneously; ID is a user-defined identifier for the analysis\n",
            "  -brainstem-structures : segmentation of brainstem structures\n",
            "\n",
            " Other Arguments (Optional)\n",
            "  -sd subjectsdir : specify subjects dir (default env SUBJECTS_DIR)\n",
            "  -mail username  : mail user when done\n",
            "  -umask umask    : set unix file permission mask (default 002)\n",
            "  -grp groupid    : check that current group is alpha groupid \n",
            "  -onlyversions   : print version of each binary and exit\n",
            "  -debug          : print out lots of info\n",
            "  -allowcoredump  : set coredump limit to unlimited\n",
            "  -dontrun        : do everything but execute each command\n",
            "  -version        : print version of this script and exit\n",
            "  -help           : voluminous bits of wisdom\n",
            "\n",
            "\u001b[4m73f2ea161d03\u001b[m:\u001b[1m/content\u001b[m# exit\n",
            "\u001b[4m73f2ea161d03\u001b[m:\u001b[1m/content\u001b[m# exit\n"
          ]
        }
      ]
    },
    {
      "cell_type": "code",
      "source": [],
      "metadata": {
        "id": "GMvlOohGI5ah"
      },
      "execution_count": null,
      "outputs": []
    }
  ]
}